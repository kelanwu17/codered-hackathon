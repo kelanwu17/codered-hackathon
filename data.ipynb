{
 "cells": [
  {
   "cell_type": "code",
   "execution_count": 6,
   "metadata": {},
   "outputs": [
    {
     "ename": "KeyError",
     "evalue": "'value'",
     "output_type": "error",
     "traceback": [
      "\u001b[1;31m---------------------------------------------------------------------------\u001b[0m",
      "\u001b[1;31mKeyError\u001b[0m                                  Traceback (most recent call last)",
      "Cell \u001b[1;32mIn [6], line 16\u001b[0m\n\u001b[0;32m     14\u001b[0m \u001b[39mfor\u001b[39;00m i \u001b[39min\u001b[39;00m \u001b[39mrange\u001b[39m(\u001b[39m0\u001b[39m, \u001b[39mlen\u001b[39m(json_data[\u001b[39m\"\u001b[39m\u001b[39mresponse\u001b[39m\u001b[39m\"\u001b[39m][\u001b[39m\"\u001b[39m\u001b[39mdata\u001b[39m\u001b[39m\"\u001b[39m])):\n\u001b[0;32m     15\u001b[0m     \u001b[39mif\u001b[39;00m json_data[\u001b[39m\"\u001b[39m\u001b[39mresponse\u001b[39m\u001b[39m\"\u001b[39m][\u001b[39m\"\u001b[39m\u001b[39mdata\u001b[39m\u001b[39m\"\u001b[39m][i][\u001b[39m\"\u001b[39m\u001b[39marea-name\u001b[39m\u001b[39m\"\u001b[39m] \u001b[39m==\u001b[39m \u001b[39m\"\u001b[39m\u001b[39mTEXAS\u001b[39m\u001b[39m\"\u001b[39m:\n\u001b[1;32m---> 16\u001b[0m         texas_value\u001b[39m.\u001b[39mappend(json_data[\u001b[39m\"\u001b[39;49m\u001b[39mresponse\u001b[39;49m\u001b[39m\"\u001b[39;49m][\u001b[39m\"\u001b[39;49m\u001b[39mdata\u001b[39;49m\u001b[39m\"\u001b[39;49m][i][\u001b[39m\"\u001b[39;49m\u001b[39mvalue\u001b[39;49m\u001b[39m\"\u001b[39;49m])\n\u001b[0;32m     17\u001b[0m         texas_period\u001b[39m.\u001b[39mappend(json_data[\u001b[39m\"\u001b[39m\u001b[39mresponse\u001b[39m\u001b[39m\"\u001b[39m][\u001b[39m\"\u001b[39m\u001b[39mdata\u001b[39m\u001b[39m\"\u001b[39m][i][\u001b[39m\"\u001b[39m\u001b[39mperiod\u001b[39m\u001b[39m\"\u001b[39m])\n\u001b[0;32m     19\u001b[0m \u001b[39m# #sorting the lists\u001b[39;00m\n\u001b[0;32m     20\u001b[0m \u001b[39m# sorted = False\u001b[39;00m\n\u001b[0;32m     21\u001b[0m \u001b[39m# while (sorted != True):\u001b[39;00m\n\u001b[1;32m   (...)\u001b[0m\n\u001b[0;32m     31\u001b[0m \u001b[39m#             texas_value[i] = temp_value\u001b[39;00m\n\u001b[0;32m     32\u001b[0m \u001b[39m#             sorted = False\u001b[39;00m\n",
      "\u001b[1;31mKeyError\u001b[0m: 'value'"
     ]
    }
   ],
   "source": [
    "\n",
    "import requests\n",
    "import json\n",
    "import pandas\n",
    "\n",
    "api_key = \"lLhgwKk3K0bBy3WCT8kUPbNErsjjRcJjO8h5ZUs3\"\n",
    "response = requests.get(\"https://api.eia.gov/v2/natural-gas/prod/oilwells/data/?api_key=lLhgwKk3K0bBy3WCT8kUPbNErsjjRcJjO8h5ZUs3\")\n",
    "\n",
    "json_data = json.loads(response.text)\n",
    "#inputing data into lists\n",
    "\n",
    "texas_value = []\n",
    "texas_period = []\n",
    "\n",
    "\n",
    "for i in range(0, len(json_data[\"response\"][\"data\"])):\n",
    "    if json_data[\"response\"][\"data\"][i][\"area-name\"] == \"TEXAS\":\n",
    "        texas_value.append(json_data[\"response\"][\"data\"][i][\"value\"])\n",
    "        texas_period.append(json_data[\"response\"][\"data\"][i][\"period\"])\n",
    "\n",
    "# #sorting the lists\n",
    "# sorted = False\n",
    "# while (sorted != True):\n",
    "#     sorted = True\n",
    "#     for i in range(0, len(texas_value) - 1):\n",
    "#         if texas_period[i] > texas_period[i+1]:\n",
    "#             temp_period = texas_period[i+1]\n",
    "#             texas_period[i+1] = texas_period[i]\n",
    "#             texas_period[i] = temp_period\n",
    "            \n",
    "#             temp_value = texas_value[i+1]\n",
    "#             texas_value[i+1] = texas_value[i]\n",
    "#             texas_value[i] = temp_value\n",
    "#             sorted = False"
   ]
  }
 ],
 "metadata": {
  "kernelspec": {
   "display_name": "Python 3.10.4 64-bit",
   "language": "python",
   "name": "python3"
  },
  "language_info": {
   "codemirror_mode": {
    "name": "ipython",
    "version": 3
   },
   "file_extension": ".py",
   "mimetype": "text/x-python",
   "name": "python",
   "nbconvert_exporter": "python",
   "pygments_lexer": "ipython3",
   "version": "3.10.4"
  },
  "orig_nbformat": 4,
  "vscode": {
   "interpreter": {
    "hash": "26de051ba29f2982a8de78e945f0abaf191376122a1563185a90213a26c5da77"
   }
  }
 },
 "nbformat": 4,
 "nbformat_minor": 2
}
