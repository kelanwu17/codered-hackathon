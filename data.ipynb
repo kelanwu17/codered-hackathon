{
 "cells": [
  {
   "cell_type": "code",
   "execution_count": 15,
   "metadata": {},
   "outputs": [
    {
     "name": "stdout",
     "output_type": "stream",
     "text": [
      "5751\n",
      "1989\n",
      "1990\n",
      "1991\n",
      "1992\n",
      "1993\n",
      "1994\n",
      "1995\n",
      "1996\n",
      "1997\n",
      "1998\n",
      "1999\n",
      "2000\n",
      "2001\n",
      "2002\n",
      "2003\n",
      "2004\n",
      "2005\n",
      "2006\n",
      "2007\n",
      "2008\n",
      "2009\n",
      "2010\n",
      "2011\n",
      "2012\n",
      "2013\n",
      "2014\n",
      "2015\n",
      "2016\n",
      "2017\n",
      "2018\n",
      "2019\n",
      "2020\n"
     ]
    }
   ],
   "source": [
    "from flask import Flask, render_template, Markup\n",
    "import requests\n",
    "import json\n",
    "import pandas\n",
    "\n",
    "#loading Oil Wells Data\n",
    "api_key = \"lLhgwKk3K0bBy3WCT8kUPbNErsjjRcJjO8h5ZUs3\"\n",
    "response = requests.get(\"https://api.eia.gov/v2/natural-gas/prod/wells/data/?api_key=\" + api_key + \"&data[]=value\")\n",
    "\n",
    "def jprint(obj):\n",
    "    text = json.dumps(obj, sort_keys=True, indent= 4)\n",
    "    print(text)\n",
    "    \n",
    "\n",
    "json_data = json.loads(response.text)\n",
    "jprint(json_data[\"response\"][\"data\"][0])\n",
    "#inputing data into lists\n",
    "texas_value = []\n",
    "texas_period = []\n",
    "for i in range(0, len(json_data[\"response\"][\"data\"])):\n",
    "    if json_data[\"response\"][\"data\"][i][\"area-name\"] == \"TEXAS\":\n",
    "        texas_value.append(json_data[\"response\"][\"data\"][i][\"value\"])\n",
    "        texas_period.append(json_data[\"response\"][\"data\"][i][\"period\"])\n",
    "\n",
    "#sorting the lists\n",
    "sorted = False\n",
    "while (sorted != True):\n",
    "    sorted = True\n",
    "    for i in range(0, len(texas_value) - 1):\n",
    "        if texas_period[i] > texas_period[i+1]:\n",
    "            temp_period = texas_period[i+1]\n",
    "            texas_period[i+1] = texas_period[i]\n",
    "            texas_period[i] = temp_period\n",
    "            \n",
    "            temp_value = texas_value[i+1]\n",
    "            texas_value[i+1] = texas_value[i]\n",
    "            texas_value[i] = temp_value\n",
    "            sorted = False"
   ]
  },
  {
   "cell_type": "code",
   "execution_count": null,
   "metadata": {},
   "outputs": [],
   "source": []
  }
 ],
 "metadata": {
  "kernelspec": {
   "display_name": "Python 3.10.4 ('env': venv)",
   "language": "python",
   "name": "python3"
  },
  "language_info": {
   "codemirror_mode": {
    "name": "ipython",
    "version": 3
   },
   "file_extension": ".py",
   "mimetype": "text/x-python",
   "name": "python",
   "nbconvert_exporter": "python",
   "pygments_lexer": "ipython3",
   "version": "3.10.4"
  },
  "orig_nbformat": 4,
  "vscode": {
   "interpreter": {
    "hash": "f71b20449afdbbe45b18014b708a3853bc9e6a54d38accab6248f9f10e2112f2"
   }
  }
 },
 "nbformat": 4,
 "nbformat_minor": 2
}
